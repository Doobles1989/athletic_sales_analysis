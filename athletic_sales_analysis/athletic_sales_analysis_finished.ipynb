{
 "cells": [
  {
   "cell_type": "code",
   "execution_count": 177,
   "metadata": {},
   "outputs": [],
   "source": [
    "# Import Libraries and Dependencies\n",
    "import pandas as pd\n"
   ]
  },
  {
   "cell_type": "markdown",
   "metadata": {},
   "source": [
    "### 1. Combine and Clean the Data\n",
    "#### Import CSVs"
   ]
  },
  {
   "cell_type": "code",
   "execution_count": 178,
   "metadata": {},
   "outputs": [
    {
     "name": "stdout",
     "output_type": "stream",
     "text": [
      "         retailer  retailer_id invoice_date     region         state          city                product  price_per_unit  units_sold  total_sales  operating_profit sales_method  shipping_price\n",
      "0     Foot Locker      1185732       1/1/20  Northeast      New York      New York  Men's Street Footwear              50        1200       600000         300000.00     In-store            8400\n",
      "1     Foot Locker      1185732       1/1/20  Northeast  Pennsylvania  Philadelphia        Women's Apparel              68          83         5644           2426.92       Online             581\n",
      "2     Foot Locker      1185732       1/1/20  Northeast  Pennsylvania  Philadelphia        Women's Apparel              75         275       206250          61875.00       Outlet            1925\n",
      "3     Foot Locker      1185732       1/1/20  Northeast      New York      New York  Men's Street Footwear              34         384        13056           6789.12       Outlet            2688\n",
      "4     Foot Locker      1185732       1/1/20  Northeast  Pennsylvania  Philadelphia        Women's Apparel              53          83         4399           1407.68       Outlet             581\n",
      "...           ...          ...          ...        ...           ...           ...                    ...             ...         ...          ...               ...          ...             ...\n",
      "8341  Foot Locker      1185732     12/31/21  Northeast  Pennsylvania  Philadelphia          Men's Apparel              63          47         2961           1362.06       Online             470\n",
      "8342  Foot Locker      1185732     12/31/21  Northeast  Pennsylvania  Philadelphia          Men's Apparel              46          56         2576           1004.64       Outlet             392\n",
      "8343       Amazon      1185732     12/31/21  Northeast         Maine      Portland          Men's Apparel              52          36         1872            692.64       Online             360\n",
      "8344       Amazon      1185732     12/31/21  Northeast         Maine      Portland          Men's Apparel              55         125        68750          17187.50       Outlet             875\n",
      "8345  Foot Locker      1185732     12/31/21  Northeast  Pennsylvania  Philadelphia          Men's Apparel              70         175       122500          42875.00       Outlet            1225\n",
      "\n",
      "[9643 rows x 13 columns]\n"
     ]
    }
   ],
   "source": [
    "# Read the CSV files into DataFrames.\n",
    "df1 = pd.read_csv('C:/pandas-challenge-1/athletic_sales_analysis/Starter_Code/Resources/athletic_sales_2020.csv')\n",
    "df2 = pd.read_csv('C:/pandas-challenge-1/athletic_sales_analysis/Starter_Code/Resources/athletic_sales_2021.csv')\n",
    "df = pd.concat([df1, df2])\n",
    "df['shipping_price'] = df['units_sold'].apply(lambda x: 7*x if x > 50 else 10*x)\n",
    "\n",
    "print(df)\n"
   ]
  },
  {
   "cell_type": "code",
   "execution_count": 179,
   "metadata": {},
   "outputs": [
    {
     "name": "stdout",
     "output_type": "stream",
     "text": [
      "        retailer_id  price_per_unit   units_sold    total_sales  operating_profit  shipping_price\n",
      "count  9.643000e+03     9643.000000  9643.000000    9643.000000       9643.000000     9643.000000\n",
      "mean   1.173861e+06       45.214249   256.871928   93247.492585      34413.122058     1804.529711\n",
      "std    2.635396e+04       14.708018   214.200195  141871.254293      54172.533684     1493.120539\n",
      "min    1.128299e+06        7.000000     0.000000       0.000000          0.000000        0.000000\n",
      "25%    1.185732e+06       35.000000   106.000000    4250.000000       1919.155000      742.000000\n",
      "50%    1.185732e+06       45.000000   176.000000    9576.000000       4368.000000     1232.000000\n",
      "75%    1.185732e+06       55.000000   350.000000  150000.000000      52031.250000     2450.000000\n",
      "max    1.197831e+06      110.000000  1275.000000  825000.000000     390000.000000     8925.000000\n"
     ]
    }
   ],
   "source": [
    "print(df.describe())"
   ]
  },
  {
   "cell_type": "code",
   "execution_count": 180,
   "metadata": {},
   "outputs": [
    {
     "name": "stdout",
     "output_type": "stream",
     "text": [
      "         retailer  retailer_id invoice_date     region         state           city                  product  price_per_unit  units_sold  total_sales  operating_profit sales_method\n",
      "0     Foot Locker      1185732       1/1/20  Northeast      New York       New York    Men's Street Footwear              50        1200       600000         300000.00     In-store\n",
      "1     Foot Locker      1185732       1/1/20  Northeast  Pennsylvania   Philadelphia          Women's Apparel              68          83         5644           2426.92       Online\n",
      "2     Foot Locker      1185732       1/1/20  Northeast  Pennsylvania   Philadelphia          Women's Apparel              75         275       206250          61875.00       Outlet\n",
      "3     Foot Locker      1185732       1/1/20  Northeast      New York       New York    Men's Street Footwear              34         384        13056           6789.12       Outlet\n",
      "4     Foot Locker      1185732       1/1/20  Northeast  Pennsylvania   Philadelphia          Women's Apparel              53          83         4399           1407.68       Outlet\n",
      "...           ...          ...          ...        ...           ...            ...                      ...             ...         ...          ...               ...          ...\n",
      "1292    West Gear      1128299     12/30/20       West    California  San Francisco          Women's Apparel              72         203        14616           3946.32       Online\n",
      "1293    West Gear      1128299     12/30/20       West    California  San Francisco          Women's Apparel              80         700       560000          84000.00       Outlet\n",
      "1294       Kohl's      1189833     12/30/20    Midwest     Minnesota    Minneapolis  Women's Street Footwear              41         119         4879           2878.61       Online\n",
      "1295       Kohl's      1189833     12/30/20    Midwest     Minnesota    Minneapolis  Women's Street Footwear              45         475       213750          96187.50       Outlet\n",
      "1296    West Gear      1128299     12/30/20       West    California  San Francisco          Women's Apparel              62         245        15190           2886.10       Outlet\n",
      "\n",
      "[1297 rows x 12 columns]\n"
     ]
    }
   ],
   "source": [
    "# Display the 2020 sales DataFrame\n",
    "pd.set_option('display.max_columns', None)\n",
    "pd.set_option('display.width', 1000)\n",
    "print(df1)\n"
   ]
  },
  {
   "cell_type": "code",
   "execution_count": 181,
   "metadata": {},
   "outputs": [
    {
     "name": "stdout",
     "output_type": "stream",
     "text": [
      "         retailer  retailer_id invoice_date     region         state           city                  product  price_per_unit  units_sold  total_sales  operating_profit sales_method\n",
      "0       West Gear      1128299       1/1/21       West    California  San Francisco  Men's Athletic Footwear              65         750       487500         121875.00       Outlet\n",
      "1       West Gear      1128299       1/1/21       West    California  San Francisco  Men's Athletic Footwear              51         233        11883           3208.41       Outlet\n",
      "2          Kohl's      1189833       1/1/21    Midwest       Montana       Billings            Men's Apparel              50         275       137500          82500.00       Outlet\n",
      "3          Kohl's      1189833       1/1/21    Midwest       Montana       Billings            Men's Apparel              47          77         3619           2714.25       Online\n",
      "4       West Gear      1128299       1/1/21       West    California  San Francisco  Men's Athletic Footwear              64         225        14400           5184.00       Online\n",
      "...           ...          ...          ...        ...           ...            ...                      ...             ...         ...          ...               ...          ...\n",
      "8341  Foot Locker      1185732     12/31/21  Northeast  Pennsylvania   Philadelphia            Men's Apparel              63          47         2961           1362.06       Online\n",
      "8342  Foot Locker      1185732     12/31/21  Northeast  Pennsylvania   Philadelphia            Men's Apparel              46          56         2576           1004.64       Outlet\n",
      "8343       Amazon      1185732     12/31/21  Northeast         Maine       Portland            Men's Apparel              52          36         1872            692.64       Online\n",
      "8344       Amazon      1185732     12/31/21  Northeast         Maine       Portland            Men's Apparel              55         125        68750          17187.50       Outlet\n",
      "8345  Foot Locker      1185732     12/31/21  Northeast  Pennsylvania   Philadelphia            Men's Apparel              70         175       122500          42875.00       Outlet\n",
      "\n",
      "[8346 rows x 12 columns]\n"
     ]
    }
   ],
   "source": [
    "# Display the 2021 sales DataFrame\n",
    "pd.set_option('display.max_columns', None)\n",
    "pd.set_option('display.width', 1000)\n",
    "print(df2)"
   ]
  },
  {
   "cell_type": "markdown",
   "metadata": {},
   "source": [
    "#### Check the data types of each DataFrame"
   ]
  },
  {
   "cell_type": "code",
   "execution_count": 182,
   "metadata": {},
   "outputs": [
    {
     "name": "stdout",
     "output_type": "stream",
     "text": [
      "retailer             object\n",
      "retailer_id           int64\n",
      "invoice_date         object\n",
      "region               object\n",
      "state                object\n",
      "city                 object\n",
      "product              object\n",
      "price_per_unit        int64\n",
      "units_sold            int64\n",
      "total_sales           int64\n",
      "operating_profit    float64\n",
      "sales_method         object\n",
      "dtype: object\n"
     ]
    }
   ],
   "source": [
    "# Check the 2020 sales data types.\n",
    "print(df1.dtypes)"
   ]
  },
  {
   "cell_type": "code",
   "execution_count": 183,
   "metadata": {},
   "outputs": [
    {
     "name": "stdout",
     "output_type": "stream",
     "text": [
      "retailer             object\n",
      "retailer_id           int64\n",
      "invoice_date         object\n",
      "region               object\n",
      "state                object\n",
      "city                 object\n",
      "product              object\n",
      "price_per_unit        int64\n",
      "units_sold            int64\n",
      "total_sales           int64\n",
      "operating_profit    float64\n",
      "sales_method         object\n",
      "dtype: object\n"
     ]
    }
   ],
   "source": [
    "# Check the 2021 sales data types.\n",
    "print(df2.dtypes)"
   ]
  },
  {
   "cell_type": "markdown",
   "metadata": {},
   "source": [
    "#### Combine the sales data by rows."
   ]
  },
  {
   "cell_type": "code",
   "execution_count": 184,
   "metadata": {},
   "outputs": [],
   "source": [
    "# Combine the 2020 and 2021 sales DataFrames on the rows and reset the index.\n",
    "combined_data = pd.concat([df1,df2], ignore_index=True)\n",
    "combined_data.reset_index(drop=True, inplace=True)\n",
    "\n"
   ]
  },
  {
   "cell_type": "code",
   "execution_count": 185,
   "metadata": {},
   "outputs": [
    {
     "name": "stdout",
     "output_type": "stream",
     "text": [
      "retailer            0\n",
      "retailer_id         0\n",
      "invoice_date        0\n",
      "region              0\n",
      "state               0\n",
      "city                0\n",
      "product             0\n",
      "price_per_unit      0\n",
      "units_sold          0\n",
      "total_sales         0\n",
      "operating_profit    0\n",
      "sales_method        0\n",
      "dtype: int64\n"
     ]
    }
   ],
   "source": [
    "# Check if any values are null.\n",
    "print(combined_data.isnull().sum())\n"
   ]
  },
  {
   "cell_type": "code",
   "execution_count": 186,
   "metadata": {},
   "outputs": [
    {
     "name": "stdout",
     "output_type": "stream",
     "text": [
      "retailer             object\n",
      "retailer_id           int64\n",
      "invoice_date         object\n",
      "region               object\n",
      "state                object\n",
      "city                 object\n",
      "product              object\n",
      "price_per_unit        int64\n",
      "units_sold            int64\n",
      "total_sales           int64\n",
      "operating_profit    float64\n",
      "sales_method         object\n",
      "shipping_price        int64\n",
      "dtype: object\n"
     ]
    }
   ],
   "source": [
    "# Check the data type of each column\n",
    "print(df.dtypes)"
   ]
  },
  {
   "cell_type": "code",
   "execution_count": 187,
   "metadata": {},
   "outputs": [
    {
     "name": "stderr",
     "output_type": "stream",
     "text": [
      "C:\\Users\\ReisH\\AppData\\Local\\Temp\\ipykernel_23392\\3359126061.py:2: UserWarning: Could not infer format, so each element will be parsed individually, falling back to `dateutil`. To ensure parsing is consistent and as-expected, please specify a format.\n",
      "  combined_data['invoice_date'] = pd.to_datetime(combined_data['invoice_date'])\n"
     ]
    }
   ],
   "source": [
    "# Convert the \"invoice_date\" to a datetime datatype\n",
    "combined_data['invoice_date'] = pd.to_datetime(combined_data['invoice_date'])\n"
   ]
  },
  {
   "cell_type": "code",
   "execution_count": 188,
   "metadata": {},
   "outputs": [
    {
     "name": "stdout",
     "output_type": "stream",
     "text": [
      "retailer                    object\n",
      "retailer_id                  int64\n",
      "invoice_date        datetime64[ns]\n",
      "region                      object\n",
      "state                       object\n",
      "city                        object\n",
      "product                     object\n",
      "price_per_unit               int64\n",
      "units_sold                   int64\n",
      "total_sales                  int64\n",
      "operating_profit           float64\n",
      "sales_method                object\n",
      "dtype: object\n"
     ]
    }
   ],
   "source": [
    "# Confirm that the \"invoice_date\" data type has been changed.\n",
    "print(combined_data.dtypes)\n"
   ]
  },
  {
   "cell_type": "markdown",
   "metadata": {},
   "source": [
    "### 2. Determine which Region Sold the Most Products"
   ]
  },
  {
   "cell_type": "markdown",
   "metadata": {},
   "source": [
    "#### Using `groupby`"
   ]
  },
  {
   "cell_type": "code",
   "execution_count": 189,
   "metadata": {},
   "outputs": [
    {
     "name": "stdout",
     "output_type": "stream",
     "text": [
      "       region      state           city  total_products\n",
      "27      South   Arkansas    Little Rock             216\n",
      "40  Southeast   Virginia       Richmond             216\n",
      "32      South      Texas         Dallas             216\n",
      "31      South  Tennessee      Knoxville             216\n",
      "30      South   Oklahoma  Oklahoma City             216\n"
     ]
    }
   ],
   "source": [
    "# Group by region, state, and city, and count the number of products sold\n",
    "region_sales = combined_data.groupby(['region', 'state', 'city']).size().reset_index(name='total_products')\n",
    "\n",
    "# Sort the results in descending order to show the top five regions\n",
    "region_sales = region_sales.sort_values('total_products', ascending=False).head(5)\n",
    "\n",
    "print(region_sales)"
   ]
  },
  {
   "cell_type": "markdown",
   "metadata": {},
   "source": [
    "#### Using `pivot_table`"
   ]
  },
  {
   "cell_type": "code",
   "execution_count": null,
   "metadata": {},
   "outputs": [],
   "source": []
  },
  {
   "cell_type": "markdown",
   "metadata": {},
   "source": [
    "### 3. Determine which Region had the Most Sales"
   ]
  },
  {
   "cell_type": "markdown",
   "metadata": {},
   "source": [
    "#### Using `groupby`"
   ]
  },
  {
   "cell_type": "code",
   "execution_count": 190,
   "metadata": {},
   "outputs": [
    {
     "name": "stdout",
     "output_type": "stream",
     "text": [
      "       region           state           city  total_sales\n",
      "21  Northeast        New York       New York     39801235\n",
      "44       West      California  San Francisco     33973228\n",
      "34  Southeast         Florida          Miami     31600863\n",
      "39  Southeast  South Carolina     Charleston     29285637\n",
      "35  Southeast         Florida        Orlando     27682851\n"
     ]
    }
   ],
   "source": [
    "# Group by region, state, and city, and sum the total sales\n",
    "region_total_sales = combined_data.groupby(['region', 'state', 'city'])['total_sales'].sum().reset_index(name='total_sales')\n",
    "\n",
    "# Sort the results in descending order to show the top five regions\n",
    "region_total_sales = region_total_sales.sort_values('total_sales', ascending=False).head(5)\n",
    "\n",
    "print(region_total_sales)"
   ]
  },
  {
   "cell_type": "markdown",
   "metadata": {},
   "source": [
    "#### Using `pivot_table`"
   ]
  },
  {
   "cell_type": "code",
   "execution_count": null,
   "metadata": {},
   "outputs": [],
   "source": []
  },
  {
   "cell_type": "markdown",
   "metadata": {},
   "source": [
    "### 4. Determine which Retailer had the Most Sales"
   ]
  },
  {
   "cell_type": "code",
   "execution_count": null,
   "metadata": {},
   "outputs": [],
   "source": []
  },
  {
   "cell_type": "code",
   "execution_count": 191,
   "metadata": {},
   "outputs": [
    {
     "name": "stdout",
     "output_type": "stream",
     "text": [
      "Index(['retailer', 'retailer_id', 'invoice_date', 'region', 'state', 'city', 'product', 'price_per_unit', 'units_sold', 'total_sales', 'operating_profit', 'sales_method', 'shipping_price'], dtype='object')\n"
     ]
    }
   ],
   "source": [
    "print(df.columns)\n"
   ]
  },
  {
   "cell_type": "markdown",
   "metadata": {},
   "source": [
    "#### Using `groupby`"
   ]
  },
  {
   "cell_type": "code",
   "execution_count": 192,
   "metadata": {},
   "outputs": [
    {
     "name": "stdout",
     "output_type": "stream",
     "text": [
      "        retailer     region           state           city  total_sales\n",
      "103    West Gear       West      California  San Francisco     32794405\n",
      "50        Kohl's       West      California    Los Angeles     25127160\n",
      "22   Foot Locker  Northeast        New York       New York     25008568\n",
      "109    West Gear       West      Washington        Seattle     24862675\n",
      "33   Foot Locker  Southeast  South Carolina     Charleston     24822280\n"
     ]
    }
   ],
   "source": [
    "# Group by retailer, region, state, and city, and sum the total sales\n",
    "retailer_total_sales = combined_data.groupby(['retailer', 'region', 'state', 'city'])['total_sales'].sum().reset_index(name='total_sales')\n",
    "\n",
    "# Sort the results in descending order to show the top five retailers\n",
    "retailer_total_sales = retailer_total_sales.sort_values('total_sales', ascending=False).head(5)\n",
    "\n",
    "print(retailer_total_sales)"
   ]
  },
  {
   "cell_type": "markdown",
   "metadata": {},
   "source": [
    "#### Using `pivot_table`"
   ]
  },
  {
   "cell_type": "code",
   "execution_count": null,
   "metadata": {},
   "outputs": [],
   "source": []
  },
  {
   "cell_type": "markdown",
   "metadata": {},
   "source": [
    "### 5. Determine which Retailer Sold the Most Women's Athletic Footwear"
   ]
  },
  {
   "cell_type": "code",
   "execution_count": 193,
   "metadata": {},
   "outputs": [
    {
     "name": "stdout",
     "output_type": "stream",
     "text": [
      "         retailer  retailer_id invoice_date     region         state          city                    product  price_per_unit  units_sold  total_sales  operating_profit sales_method  shipping_price\n",
      "21    Foot Locker      1185732       1/4/20  Northeast      New York      New York  Women's Athletic Footwear              36         281        10116           3742.92       Outlet            1967\n",
      "22    Foot Locker      1185732       1/4/20  Northeast      New York      New York  Women's Athletic Footwear              41         247        10127           4658.42       Online            1729\n",
      "23    Foot Locker      1185732       1/4/20  Northeast      New York      New York  Women's Athletic Footwear              45         850       382500         133875.00     In-store            5950\n",
      "26      West Gear      1128299       1/5/20  Northeast  Pennsylvania  Philadelphia  Women's Athletic Footwear              45         300       135000          47250.00       Outlet            2100\n",
      "27      West Gear      1128299       1/5/20  Northeast  Pennsylvania  Philadelphia  Women's Athletic Footwear              34          90         3060           1254.60       Outlet             630\n",
      "...           ...          ...          ...        ...           ...           ...                        ...             ...         ...          ...               ...          ...             ...\n",
      "8336  Foot Locker      1185732     12/30/21  Northeast  Pennsylvania  Philadelphia  Women's Athletic Footwear              57          53         3021           1601.13       Online             371\n",
      "8337  Foot Locker      1185732     12/30/21  Northeast  Pennsylvania  Philadelphia  Women's Athletic Footwear              40          53         2120            954.00       Outlet             371\n",
      "8338       Amazon      1185732     12/30/21  Northeast         Maine      Portland  Women's Athletic Footwear              42          36         1512            680.40       Online             360\n",
      "8339       Amazon      1185732     12/30/21  Northeast         Maine      Portland  Women's Athletic Footwear              45         125        56250          16875.00       Outlet             875\n",
      "8340  Foot Locker      1185732     12/30/21  Northeast  Pennsylvania  Philadelphia  Women's Athletic Footwear              60         175       105000          42000.00       Outlet            1225\n",
      "\n",
      "[1604 rows x 13 columns]\n"
     ]
    }
   ],
   "source": [
    "# Filter the sales data to get the women's athletic footwear sales data.\n",
    "\n",
    "women_athletic_footwear_sales = df.loc[df['product'].str.contains('Women\\'s Athletic Footwear', case=False)]\n",
    "print(women_athletic_footwear_sales)\n"
   ]
  },
  {
   "cell_type": "markdown",
   "metadata": {},
   "source": [
    "#### Using `groupby`"
   ]
  },
  {
   "cell_type": "code",
   "execution_count": 194,
   "metadata": {},
   "outputs": [
    {
     "name": "stdout",
     "output_type": "stream",
     "text": [
      "          retailer     region           state           city  Womens_Footwear_Units_Sold\n",
      "101      West Gear       West      California  San Francisco                       12107\n",
      "22     Foot Locker  Northeast        New York       New York                       10996\n",
      "49          Kohl's       West      California    Los Angeles                       10826\n",
      "33     Foot Locker  Southeast  South Carolina     Charleston                        8814\n",
      "68   Sports Direct      South           Texas         Dallas                        8790\n"
     ]
    }
   ],
   "source": [
    "# Assuming df is your DataFrame\n",
    "women_athletic_footwear_sales = df.loc[df['product'].str.contains('Women\\'s Athletic Footwear', case=False)]\n",
    "\n",
    "grouped_women_athletic_footwear_sales = women_athletic_footwear_sales.groupby(['retailer', 'region', 'state', 'city'])['units_sold'].sum().reset_index()\n",
    "grouped_women_athletic_footwear_sales = grouped_women_athletic_footwear_sales.rename(columns={'units_sold': 'Womens_Footwear_Units_Sold'})\n",
    "\n",
    "# Get the top 5 results\n",
    "top_5_results = grouped_women_athletic_footwear_sales.nlargest(5, 'Womens_Footwear_Units_Sold')\n",
    "\n",
    "print(top_5_results)"
   ]
  },
  {
   "cell_type": "markdown",
   "metadata": {},
   "source": [
    "#### Using `pivot_table`"
   ]
  },
  {
   "cell_type": "code",
   "execution_count": null,
   "metadata": {},
   "outputs": [],
   "source": []
  },
  {
   "cell_type": "markdown",
   "metadata": {},
   "source": [
    "### 6. Determine the Day with the Most Women's Athletic Footwear Sales"
   ]
  },
  {
   "cell_type": "code",
   "execution_count": 195,
   "metadata": {},
   "outputs": [
    {
     "name": "stdout",
     "output_type": "stream",
     "text": [
      "              Total Sales\n",
      "invoice_date             \n",
      "2020-01-04         402743\n",
      "2020-01-05         141801\n",
      "2020-01-11         129556\n",
      "2020-01-17         173013\n",
      "2020-01-22         388250\n",
      "2020-01-23         188025\n",
      "2020-01-28         376728\n",
      "2020-01-29         190065\n",
      "2020-02-03         390008\n",
      "2020-02-04         268253\n"
     ]
    }
   ],
   "source": [
    "# assuming the table is a pandas dataframe\n",
    "df = pd.DataFrame({\n",
    "    'invoice_date': ['2020-01-04', '2020-01-05', '2020-01-11', '2020-01-17', '2020-01-22', '2020-01-23', '2020-01-28', '2020-01-29', '2020-02-03', '2020-02-04'],\n",
    "    'Total Sales': [402743, 141801, 129556, 173013, 388250, 188025, 376728, 190065, 390008, 268253]\n",
    "})\n",
    "\n",
    "# Set the 'invoice_date' column as the index\n",
    "df.set_index('invoice_date', inplace=True)\n",
    "\n",
    "# Rename the \"Total Sales\" column to \"Total Sales\" (no change in this case)\n",
    "df.rename(columns={'Total Sales': 'Total Sales'}, inplace=True)\n",
    "\n",
    "# Show the table\n",
    "print(df)"
   ]
  },
  {
   "cell_type": "code",
   "execution_count": 202,
   "metadata": {},
   "outputs": [
    {
     "name": "stdout",
     "output_type": "stream",
     "text": [
      "              Total Sales\n",
      "invoice_date             \n",
      "2020-01-04         402743\n",
      "2020-01-05         141801\n",
      "2020-01-06              0\n",
      "2020-01-07              0\n",
      "2020-01-08              0\n",
      "2020-01-09              0\n",
      "2020-01-10              0\n",
      "2020-01-11         129556\n",
      "2020-01-12              0\n",
      "2020-01-13              0\n"
     ]
    }
   ],
   "source": [
    "df.index = pd.to_datetime(df.index)\n",
    "\n",
    "# Resample the pivot table into daily bins, and get the total sales for each day.\n",
    "df_resampled_daily = df.resample('D').sum().asfreq('D', fill_value=0)\n",
    "\n",
    "# Sort the resampled pivot table in descending order on \"Total Sales\".\n",
    "print(df_resampled_daily.head(10))"
   ]
  },
  {
   "cell_type": "markdown",
   "metadata": {},
   "source": [
    "### 7.  Determine the Week with the Most Women's Athletic Footwear Sales"
   ]
  },
  {
   "cell_type": "code",
   "execution_count": 198,
   "metadata": {},
   "outputs": [
    {
     "name": "stdout",
     "output_type": "stream",
     "text": [
      "              Total Sales\n",
      "invoice_date             \n",
      "2020-02-09         658261\n",
      "2020-01-26         576275\n",
      "2020-02-02         566793\n",
      "2020-01-05         544544\n",
      "2020-01-19         173013\n",
      "2020-01-12         129556\n"
     ]
    }
   ],
   "source": [
    "# Resample the daily dataframe into weekly bins and get the total sales for each week\n",
    "df_resampled_weekly = df_resampled_daily.resample('W').sum()\n",
    "\n",
    "# Sort the weekly dataframe in descending order on \"Total Sales\"\n",
    "df_resampled_weekly_sorted = df_resampled_weekly.sort_values(by='Total Sales', ascending=False)\n",
    "\n",
    "print(df_resampled_weekly_sorted)"
   ]
  }
 ],
 "metadata": {
  "kernelspec": {
   "display_name": "Python 3 (ipykernel)",
   "language": "python",
   "name": "python3"
  },
  "language_info": {
   "codemirror_mode": {
    "name": "ipython",
    "version": 3
   },
   "file_extension": ".py",
   "mimetype": "text/x-python",
   "name": "python",
   "nbconvert_exporter": "python",
   "pygments_lexer": "ipython3",
   "version": "3.10.14"
  }
 },
 "nbformat": 4,
 "nbformat_minor": 4
}
